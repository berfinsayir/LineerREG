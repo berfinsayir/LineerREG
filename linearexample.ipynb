{
 "cells": [
  {
   "cell_type": "markdown",
   "metadata": {
    "papermill": {
     "duration": 0.006952,
     "end_time": "2020-12-17T17:34:15.979659",
     "exception": false,
     "start_time": "2020-12-17T17:34:15.972707",
     "status": "completed"
    },
    "tags": []
   },
   "source": [
    "# LİNEAR REGRESSİON "
   ]
  },
  {
   "cell_type": "code",
   "execution_count": 1,
   "metadata": {
    "_cell_guid": "b1076dfc-b9ad-4769-8c92-a6c4dae69d19",
    "_uuid": "8f2839f25d086af736a60e9eeb907d3b93b6e0e5",
    "execution": {
     "iopub.execute_input": "2020-12-17T17:34:16.013266Z",
     "iopub.status.busy": "2020-12-17T17:34:16.012536Z",
     "iopub.status.idle": "2020-12-17T17:34:17.448541Z",
     "shell.execute_reply": "2020-12-17T17:34:17.447772Z"
    },
    "papermill": {
     "duration": 1.462999,
     "end_time": "2020-12-17T17:34:17.448665",
     "exception": false,
     "start_time": "2020-12-17T17:34:15.985666",
     "status": "completed"
    },
    "tags": []
   },
   "outputs": [
    {
     "name": "stdout",
     "output_type": "stream",
     "text": [
      "b0 [[1663.89519747]]\n",
      "b0 [1663.89519747]\n",
      "b1 [[1138.34819698]]\n",
      "14181\n",
      "[[14185.72536421]]\n"
     ]
    },
    {
     "data": {
      "image/png": "[encoded data removed]",
      "text/plain": [
       "<Figure size 432x288 with 1 Axes>"
      ]
     },
     "metadata": {
      "needs_background": "light"
     },
     "output_type": "display_data"
    }
   ],
   "source": [
    "import pandas as pd\n",
    "import matplotlib.pyplot as plt\n",
    "import numpy as np\n",
    "\n",
    "\n",
    "df =pd.read_csv(\"../input/linear-regression-datasetcsv/linear_regression_dataset.csv\",sep=\";\")\n",
    "\n",
    "from sklearn.linear_model import LinearRegression\n",
    "\n",
    "linear_reg =LinearRegression()\n",
    "\n",
    "x=df.deneyim.values.reshape(-1,1)\n",
    "y=df.maas.values.reshape(-1,1)\n",
    "\n",
    "linear_reg.fit(x,y)\n",
    "\n",
    "b0 = linear_reg.predict([[0]]) #predict bir normal iki köseli parantezle calisir\n",
    "print(\"b0\",b0)\n",
    "\n",
    "b0_=linear_reg.intercept_ # y eksenini kestigi nokta yani intersept noktasi\n",
    "print(\"b0\",b0_)\n",
    "\n",
    "b1=linear_reg.coef_ #egim slope\n",
    "print(\"b1\",b1)\n",
    "\n",
    "# maas = 1663 + 1138 * deneyim\n",
    "\n",
    "maas_yeni=1663 + 1138* 11\n",
    "print(maas_yeni)\n",
    "\n",
    "print(linear_reg.predict([[11]]))\n",
    "\n",
    "# visualelize line\n",
    "array=np.array([0,1,2,3,4,5,6,7,8,9,10,11,12,13,14,15]).reshape(-1,1) #deneyim\n",
    "plt.scatter(x,y)\n",
    "\n",
    "\n",
    "y_head=linear_reg.predict(array) # maas\n",
    "plt.plot(array,y_head,color =\"red\")\n",
    "plt.show()"
   ]
  },
  {
   "cell_type": "code",
   "execution_count": 2,
   "metadata": {
    "_cell_guid": "79c7e3d0-c299-4dcb-8224-4455121ee9b0",
    "_uuid": "d629ff2d2480ee46fbb7e2d37f6b5fab8052498a",
    "execution": {
     "iopub.execute_input": "2020-12-17T17:34:17.479780Z",
     "iopub.status.busy": "2020-12-17T17:34:17.479048Z",
     "iopub.status.idle": "2020-12-17T17:34:17.500843Z",
     "shell.execute_reply": "2020-12-17T17:34:17.500097Z"
    },
    "papermill": {
     "duration": 0.04214,
     "end_time": "2020-12-17T17:34:17.500981",
     "exception": false,
     "start_time": "2020-12-17T17:34:17.458841",
     "status": "completed"
    },
    "tags": []
   },
   "outputs": [
    {
     "name": "stdout",
     "output_type": "stream",
     "text": [
      "[[ 0.5 22. ]\n",
      " [ 0.  21. ]\n",
      " [ 1.  23. ]\n",
      " [ 5.  25. ]\n",
      " [ 8.  28. ]\n",
      " [ 4.  23. ]\n",
      " [15.  35. ]\n",
      " [ 7.  29. ]\n",
      " [ 3.  22. ]\n",
      " [ 2.  23. ]\n",
      " [12.  32. ]\n",
      " [10.  30. ]\n",
      " [14.  34. ]\n",
      " [ 6.  27. ]]\n"
     ]
    },
    {
     "data": {
      "text/plain": [
       "LinearRegression()"
      ]
     },
     "execution_count": 2,
     "metadata": {},
     "output_type": "execute_result"
    }
   ],
   "source": [
    "import pandas as pd\n",
    "import numpy as np\n",
    "from sklearn.linear_model import LinearRegression\n",
    "\n",
    "df=pd.read_csv(\"../input/multiple/multiple_linear_regression_dataset.csv\",sep =\";\")\n",
    "\n",
    "x=df.iloc[:,[0,2]].values\n",
    "y=df.maas.values.reshape(-1,1)\n",
    "print(x)\n",
    "\n",
    "multiple_lineart_regression =LinearRegression()\n",
    "multiple_lineart_regression.fit(x,y)"
   ]
  },
  {
   "cell_type": "code",
   "execution_count": 3,
   "metadata": {
    "execution": {
     "iopub.execute_input": "2020-12-17T17:34:17.526207Z",
     "iopub.status.busy": "2020-12-17T17:34:17.525331Z",
     "iopub.status.idle": "2020-12-17T17:34:17.530773Z",
     "shell.execute_reply": "2020-12-17T17:34:17.530230Z"
    },
    "papermill": {
     "duration": 0.021703,
     "end_time": "2020-12-17T17:34:17.530897",
     "exception": false,
     "start_time": "2020-12-17T17:34:17.509194",
     "status": "completed"
    },
    "tags": []
   },
   "outputs": [
    {
     "name": "stdout",
     "output_type": "stream",
     "text": [
      "b0 : [10376.62747228]\n",
      "b1,b2 : [[1525.50072054 -416.72218625]]\n"
     ]
    },
    {
     "data": {
      "text/plain": [
       "array([[11046.35815877],\n",
       "       [ 3418.85455609]])"
      ]
     },
     "execution_count": 3,
     "metadata": {},
     "output_type": "execute_result"
    }
   ],
   "source": [
    "print(\"b0 :\",multiple_lineart_regression.intercept_)\n",
    "print(\"b1,b2 :\",multiple_lineart_regression.coef_)\n",
    "#predict\n",
    "multiple_lineart_regression.predict(np.array([[10,35],[5,35]]))"
   ]
  },
  {
   "cell_type": "code",
   "execution_count": 4,
   "metadata": {
    "execution": {
     "iopub.execute_input": "2020-12-17T17:34:17.560615Z",
     "iopub.status.busy": "2020-12-17T17:34:17.559888Z",
     "iopub.status.idle": "2020-12-17T17:34:17.741576Z",
     "shell.execute_reply": "2020-12-17T17:34:17.742459Z"
    },
    "papermill": {
     "duration": 0.202776,
     "end_time": "2020-12-17T17:34:17.742749",
     "exception": false,
     "start_time": "2020-12-17T17:34:17.539973",
     "status": "completed"
    },
    "tags": []
   },
   "outputs": [
    {
     "data": {
      "image/png": "[encoded data removed]",
      "text/plain": [
       "<Figure size 432x288 with 1 Axes>"
      ]
     },
     "metadata": {
      "needs_background": "light"
     },
     "output_type": "display_data"
    }
   ],
   "source": [
    "import pandas as pd\n",
    "import matplotlib.pyplot as plt\n",
    "\n",
    "df=pd.read_csv(\"../input/polynomial/polynomialregression.csv\",sep=\";\")\n",
    "\n",
    "y=df.araba_max_hiz.values.reshape(-1,1)\n",
    "x=df.araba_fiyat.values.reshape(-1,1)\n",
    "\n",
    "plt.scatter(x,y)\n",
    "plt.ylabel(\"araba_max_hiz\")\n",
    "plt.xlabel(\"araba_fiyat\")\n",
    "plt.show()"
   ]
  },
  {
   "cell_type": "code",
   "execution_count": 5,
   "metadata": {
    "execution": {
     "iopub.execute_input": "2020-12-17T17:34:17.787046Z",
     "iopub.status.busy": "2020-12-17T17:34:17.785761Z",
     "iopub.status.idle": "2020-12-17T17:34:17.982616Z",
     "shell.execute_reply": "2020-12-17T17:34:17.981816Z"
    },
    "papermill": {
     "duration": 0.22553,
     "end_time": "2020-12-17T17:34:17.982782",
     "exception": false,
     "start_time": "2020-12-17T17:34:17.757252",
     "status": "completed"
    },
    "tags": []
   },
   "outputs": [
    {
     "data": {
      "image/png": "[encoded data removed]",
      "text/plain": [
       "<Figure size 432x288 with 1 Axes>"
      ]
     },
     "metadata": {
      "needs_background": "light"
     },
     "output_type": "display_data"
    },
    {
     "name": "stdout",
     "output_type": "stream",
     "text": [
      "10 milyon tl lik araba hizi tahmini [[871.66401826]]\n"
     ]
    }
   ],
   "source": [
    "#linear regression  y = b0 + b1 * x\n",
    "#multiple linear regression  y = b0 + b1 * x1 + b2 * x2\n",
    "\n",
    "#linear regression  y = b0 + b1 * x\n",
    "from sklearn.linear_model import LinearRegression\n",
    "\n",
    "lr=LinearRegression()\n",
    "lr.fit(x,y)\n",
    "#%% predict\n",
    "y_head=lr.predict(x)\n",
    "\n",
    "plt.scatter(x,y)\n",
    "plt.ylabel(\"araba_max_hiz\")\n",
    "plt.xlabel(\"araba_fiyat\")\n",
    "plt.plot(x,y_head,color =\"red\",label =\"linear\")\n",
    "plt.show()\n",
    "\n",
    "print(\"10 milyon tl lik araba hizi tahmini\",lr.predict([[10000]]))"
   ]
  },
  {
   "cell_type": "code",
   "execution_count": 6,
   "metadata": {
    "execution": {
     "iopub.execute_input": "2020-12-17T17:34:18.032176Z",
     "iopub.status.busy": "2020-12-17T17:34:18.031109Z",
     "iopub.status.idle": "2020-12-17T17:34:18.243937Z",
     "shell.execute_reply": "2020-12-17T17:34:18.244825Z"
    },
    "papermill": {
     "duration": 0.244898,
     "end_time": "2020-12-17T17:34:18.245033",
     "exception": false,
     "start_time": "2020-12-17T17:34:18.000135",
     "status": "completed"
    },
    "tags": []
   },
   "outputs": [
    {
     "data": {
      "image/png": "[encoded data removed]",
      "text/plain": [
       "<Figure size 432x288 with 1 Axes>"
      ]
     },
     "metadata": {
      "needs_background": "light"
     },
     "output_type": "display_data"
    }
   ],
   "source": [
    "#bizim datamiz linear regression'a uygun degil bu yuzden polinomlardan yararlanacaz\n",
    "#polynomial linear regression y = b0 + b1*x + b2*x^2 + b3*^3 + ..... + bn*x^n\n",
    "\n",
    "from sklearn.preprocessing import PolynomialFeatures\n",
    "polynomial_regression =PolynomialFeatures(degree =2)\n",
    "polynomial_regression4 =PolynomialFeatures(degree =4) # black\n",
    "\n",
    "x_polynomial = polynomial_regression.fit_transform(x)\n",
    "x_polynomial4 = polynomial_regression4.fit_transform(x) # black\n",
    "\n",
    "linear_regression2=LinearRegression()\n",
    "linear_regression4=LinearRegression() # black\n",
    "linear_regression2.fit(x_polynomial,y)\n",
    "linear_regression4.fit(x_polynomial4,y) # black\n",
    "\n",
    "y_head=lr.predict(x) # tek parantez kullaninca calisti\n",
    "y_head2 = linear_regression2.predict(x_polynomial) # tek parantez kullaninca calisti\n",
    "y_head4 = linear_regression4.predict(x_polynomial4)  # black\n",
    "\n",
    "plt.scatter(x,y)\n",
    "plt.ylabel(\"araba_max_hiz\")\n",
    "plt.xlabel(\"araba_fiyat\")\n",
    "plt.plot(x,y_head,color =\"red\",label =\"linear\")\n",
    "plt.plot(x,y_head2,color =\"green\",label = \"poly\")\n",
    "plt.plot(x,y_head4,color =\"black\",label = \"poly4\") # black\n",
    "plt.legend()\n",
    "plt.show() # hepsini gosterdim"
   ]
  }
 ],
 "metadata": {
  "kernelspec": {
   "display_name": "Python 3",
   "language": "python",
   "name": "python3"
  },
  "language_info": {
   "codemirror_mode": {
    "name": "ipython",
    "version": 3
   },
   "file_extension": ".py",
   "mimetype": "text/x-python",
   "name": "python",
   "nbconvert_exporter": "python",
   "pygments_lexer": "ipython3",
   "version": "3.7.6"
  },
  "papermill": {
   "duration": 7.576691,
   "end_time": "2020-12-17T17:34:18.377668",
   "environment_variables": {},
   "exception": null,
   "input_path": "__notebook__.ipynb",
   "output_path": "__notebook__.ipynb",
   "parameters": {},
   "start_time": "2020-12-17T17:34:10.800977",
   "version": "2.1.0"
  }
 },
 "nbformat": 4,
 "nbformat_minor": 4
}
